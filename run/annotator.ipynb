{
 "cells": [
  {
   "cell_type": "code",
   "execution_count": null,
   "metadata": {},
   "outputs": [],
   "source": [
    "%load_ext autoreload\n",
    "%autoreload 2\n",
    "import os\n",
    "project_name = \"PaddleSeg\"\n",
    "os.chdir(os.path.join(os.getcwd().split(project_name, 1)[0], project_name))"
   ]
  },
  {
   "cell_type": "code",
   "execution_count": 7,
   "metadata": {},
   "outputs": [],
   "source": [
    "from ipywidgets import FileUpload, Button, Output\n",
    "import json\n",
    "import base64\n",
    "from IPython.display import display\n",
    "from PIL import Image\n",
    "import io\n",
    "\n",
    "\n",
    "# Define widgets\n",
    "upload = FileUpload(accept='.json', multiple=False)\n",
    "upload_button = Button(description='Upload JSON')\n",
    "output_area = Output()\n",
    "\n",
    "def on_upload_clicked(b):\n",
    "    with output_area:\n",
    "        output_area.clear_output()\n",
    "        if upload.value:\n",
    "            json_file = next(iter(upload.value.values()))\n",
    "            content = json_file['content']\n",
    "            data = json.loads(content)\n",
    "\n",
    "            if 'imageData' in data:\n",
    "                image_data = base64.b64decode(data['imageData'])\n",
    "                image = Image.open(io.BytesIO(image_data))\n",
    "                display(image)\n",
    "\n",
    "            # Define artifacts\n",
    "            artifacts = [\n",
    "                \"crack\", \"overexposure\", \"shadow\", \"light_beam\",\n",
    "                \"foreign_object\", \"metal_structure\", \"pipe\",\n",
    "                \"wire\", \"equipment\", \"camera_shadow\", \"through_tunnel\"\n",
    "            ]\n",
    "\n",
    "            # Get user input for flags\n",
    "            print(\"Available Artifacts:\")\n",
    "            for i, artifact in enumerate(artifacts):\n",
    "                print(f\"{i + 1}. {artifact}\")\n",
    "\n",
    "            selected_indexes = input(\"Enter the numbers of detected artifacts, separated by commas: \")\n",
    "            selected_flags = {artifacts[int(index) - 1]: True for index in selected_indexes.split(\",\")}\n",
    "\n",
    "            # Update flags in JSON\n",
    "            data['flags'] = selected_flags\n",
    "\n",
    "            # Display updated JSON\n",
    "            print(\"Updated JSON:\")\n",
    "            print(json.dumps(data, indent=2))\n",
    "\n",
    "\n"
   ]
  },
  {
   "cell_type": "code",
   "execution_count": 12,
   "metadata": {},
   "outputs": [
    {
     "data": {
      "text/plain": [
       "'asd'"
      ]
     },
     "execution_count": 12,
     "metadata": {},
     "output_type": "execute_result"
    }
   ],
   "source": [
    "input()"
   ]
  },
  {
   "cell_type": "code",
   "execution_count": 9,
   "metadata": {},
   "outputs": [
    {
     "data": {
      "application/vnd.jupyter.widget-view+json": {
       "model_id": "dae649797bcb4493aaad382ec01f0a7c",
       "version_major": 2,
       "version_minor": 0
      },
      "text/plain": [
       "FileUpload(value={}, accept='.json', description='Upload')"
      ]
     },
     "metadata": {},
     "output_type": "display_data"
    },
    {
     "data": {
      "application/vnd.jupyter.widget-view+json": {
       "model_id": "3c1bee20dc8a49faab4166e6cfc1d352",
       "version_major": 2,
       "version_minor": 0
      },
      "text/plain": [
       "Button(description='Upload JSON', style=ButtonStyle())"
      ]
     },
     "metadata": {},
     "output_type": "display_data"
    },
    {
     "data": {
      "application/vnd.jupyter.widget-view+json": {
       "model_id": "991808ec842f4ac78ab3c89b73295a1c",
       "version_major": 2,
       "version_minor": 0
      },
      "text/plain": [
       "Output()"
      ]
     },
     "metadata": {},
     "output_type": "display_data"
    }
   ],
   "source": [
    "upload_button.on_click(on_upload_clicked)\n",
    "\n",
    "display(upload, upload_button, output_area)"
   ]
  }
 ],
 "metadata": {
  "kernelspec": {
   "display_name": "env",
   "language": "python",
   "name": "python3"
  },
  "language_info": {
   "codemirror_mode": {
    "name": "ipython",
    "version": 3
   },
   "file_extension": ".py",
   "mimetype": "text/x-python",
   "name": "python",
   "nbconvert_exporter": "python",
   "pygments_lexer": "ipython3",
   "version": "3.10.11"
  }
 },
 "nbformat": 4,
 "nbformat_minor": 2
}
