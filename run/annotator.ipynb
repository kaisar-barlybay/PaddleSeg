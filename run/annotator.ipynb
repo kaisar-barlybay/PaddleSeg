{
 "cells": [
  {
   "cell_type": "code",
   "execution_count": null,
   "metadata": {},
   "outputs": [],
   "source": [
    "%load_ext autoreload\n",
    "%autoreload 2\n",
    "import os\n",
    "project_name = \"PaddleSeg\"\n",
    "os.chdir(os.path.join(os.getcwd().split(project_name, 1)[0], project_name))"
   ]
  },
  {
   "cell_type": "code",
   "execution_count": 15,
   "metadata": {},
   "outputs": [],
   "source": [
    "from tkinter import Button, Tk, Canvas,  Frame"
   ]
  },
  {
   "cell_type": "code",
   "execution_count": 17,
   "metadata": {},
   "outputs": [
    {
     "name": "stdout",
     "output_type": "stream",
     "text": [
      "{'<<NextWindow>>',\n",
      " '<<PrevWindow>>',\n",
      " '<Alt-Key>',\n",
      " '<Alt-KeyRelease>',\n",
      " '<Key-Alt_L>',\n",
      " '<Key-Alt_R>',\n",
      " '<Key-F10>',\n",
      " '<KeyRelease-Alt_L>',\n",
      " '<KeyRelease-Alt_R>',\n",
      " '<KeyRelease-F10>'}\n"
     ]
    }
   ],
   "source": [
    "from itertools import chain\n",
    "from pprint import pformat\n",
    "def get_events(widget):\n",
    "    return set(chain.from_iterable(widget.bind_class(cls) for cls in widget.bindtags()))\n",
    "\n",
    "root = Tk()\n",
    "a = get_events(Canvas())\n",
    "print(pformat(a))\n",
    "root.destroy()"
   ]
  },
  {
   "cell_type": "code",
   "execution_count": 12,
   "metadata": {},
   "outputs": [
    {
     "data": {
      "text/plain": [
       "'asd'"
      ]
     },
     "execution_count": 12,
     "metadata": {},
     "output_type": "execute_result"
    }
   ],
   "source": [
    "input()"
   ]
  },
  {
   "cell_type": "code",
   "execution_count": 9,
   "metadata": {},
   "outputs": [
    {
     "data": {
      "application/vnd.jupyter.widget-view+json": {
       "model_id": "dae649797bcb4493aaad382ec01f0a7c",
       "version_major": 2,
       "version_minor": 0
      },
      "text/plain": [
       "FileUpload(value={}, accept='.json', description='Upload')"
      ]
     },
     "metadata": {},
     "output_type": "display_data"
    },
    {
     "data": {
      "application/vnd.jupyter.widget-view+json": {
       "model_id": "3c1bee20dc8a49faab4166e6cfc1d352",
       "version_major": 2,
       "version_minor": 0
      },
      "text/plain": [
       "Button(description='Upload JSON', style=ButtonStyle())"
      ]
     },
     "metadata": {},
     "output_type": "display_data"
    },
    {
     "data": {
      "application/vnd.jupyter.widget-view+json": {
       "model_id": "991808ec842f4ac78ab3c89b73295a1c",
       "version_major": 2,
       "version_minor": 0
      },
      "text/plain": [
       "Output()"
      ]
     },
     "metadata": {},
     "output_type": "display_data"
    }
   ],
   "source": [
    "upload_button.on_click(on_upload_clicked)\n",
    "\n",
    "display(upload, upload_button, output_area)"
   ]
  }
 ],
 "metadata": {
  "kernelspec": {
   "display_name": "env",
   "language": "python",
   "name": "python3"
  },
  "language_info": {
   "codemirror_mode": {
    "name": "ipython",
    "version": 3
   },
   "file_extension": ".py",
   "mimetype": "text/x-python",
   "name": "python",
   "nbconvert_exporter": "python",
   "pygments_lexer": "ipython3",
   "version": "3.10.11"
  }
 },
 "nbformat": 4,
 "nbformat_minor": 2
}
