{
 "cells": [
  {
   "cell_type": "code",
   "execution_count": 3,
   "metadata": {},
   "outputs": [],
   "source": [
    "%load_ext autoreload\n",
    "%autoreload 2\n",
    "import os\n",
    "project_name = \"PaddleSeg\"\n",
    "os.chdir(os.path.join(os.getcwd().split(project_name, 1)[0], project_name))"
   ]
  },
  {
   "cell_type": "code",
   "execution_count": 4,
   "metadata": {},
   "outputs": [],
   "source": [
    "# jpg_to_png\n",
    "from PIL import Image\n",
    "from pathlib import Path\n",
    "\n",
    "\n",
    "def jpg_to_png(source_path: str, dest_path: str):\n",
    "  Path(dest_path).mkdir(parents=True, exist_ok=True)\n",
    "  for fname in os.listdir(source_path):\n",
    "    if fname.endswith('.jpg'):\n",
    "      im1 = Image.open(os.path.join(source_path, fname))\n",
    "      np = os.path.join(dest_path, f'{fname[:-4]}.jpeg')\n",
    "      im1.save(np)"
   ]
  },
  {
   "cell_type": "code",
   "execution_count": 5,
   "metadata": {},
   "outputs": [],
   "source": [
    "bp = os.path.join('Z:', 'datasets', 'cracks', 'Заколы', 'фото')\n",
    "\n",
    "subdirs = ['']\n",
    "\n",
    "paths = [\n",
    "  (os.path.join(bp, subdir), os.path.join(bp, subdir, 'converted')) for subdir in os.listdir(bp)\n",
    "]\n",
    "\n",
    "for sp, dp in paths:\n",
    "  jpg_to_png(sp, dp)"
   ]
  }
 ],
 "metadata": {
  "kernelspec": {
   "display_name": "env",
   "language": "python",
   "name": "python3"
  },
  "language_info": {
   "codemirror_mode": {
    "name": "ipython",
    "version": 3
   },
   "file_extension": ".py",
   "mimetype": "text/x-python",
   "name": "python",
   "nbconvert_exporter": "python",
   "pygments_lexer": "ipython3",
   "version": "3.10.11"
  }
 },
 "nbformat": 4,
 "nbformat_minor": 2
}
