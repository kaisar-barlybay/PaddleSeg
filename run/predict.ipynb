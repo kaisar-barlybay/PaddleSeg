{
 "cells": [
  {
   "cell_type": "code",
   "execution_count": null,
   "metadata": {},
   "outputs": [],
   "source": [
    "%load_ext autoreload\n",
    "%autoreload 2\n",
    "import os\n",
    "project_name = \"PaddleSeg\"\n",
    "os.chdir(os.path.join(os.getcwd().split(project_name, 1)[0], project_name))"
   ]
  },
  {
   "cell_type": "code",
   "execution_count": null,
   "metadata": {},
   "outputs": [],
   "source": [
    "from utilities.dataset_manager import DatasetManager\n",
    "from utilities.runner import Runner\n",
    "root_directory = 'Z:\\datasets\\cracks\\КЦТ_Фото_Шахты'\n",
    "base_path = os.path.join('Z:', 'datasets', 'cracks', 'predict', 'hrsegnetb48')\n",
    "dm = DatasetManager()\n",
    "runner = Runner()"
   ]
  },
  {
   "cell_type": "code",
   "execution_count": null,
   "metadata": {},
   "outputs": [],
   "source": [
    "extracted_subpaths = dm.copy_relevant_datasets(root_directory, base_path)"
   ]
  },
  {
   "cell_type": "code",
   "execution_count": null,
   "metadata": {},
   "outputs": [],
   "source": [
    "for i, (path, working_dir, image_path) in enumerate(extracted_subpaths):\n",
    "  runner.run_model(image_path, working_dir)"
   ]
  },
  {
   "cell_type": "code",
   "execution_count": null,
   "metadata": {},
   "outputs": [],
   "source": [
    "working_dir = os.path.join(base_path,'selected', )\n",
    "runner.run_model(os.path.join(working_dir, 'input'), working_dir)"
   ]
  },
  {
   "cell_type": "code",
   "execution_count": null,
   "metadata": {},
   "outputs": [],
   "source": []
  },
  {
   "cell_type": "code",
   "execution_count": null,
   "metadata": {},
   "outputs": [],
   "source": [
    "lucky_images = [\n",
    "  '0_1',\n",
    "  '0_125',\n",
    "  '0_9',\n",
    "  '0_32',\n",
    "  '6_73',\n",
    "  '7_1',\n",
    "  '8_7',\n",
    "  '8_12',\n",
    "  '8_13',\n",
    "  '8_21',\n",
    "  '8_29',\n",
    "  '8_12',\n",
    "]\n",
    "\n",
    "\n",
    "wrong_images = [\n",
    "  '0_112',\n",
    "  '0_119',\n",
    "  '0_6',\n",
    "  '0_11',\n",
    "  '0_26',\n",
    "  '0_67',\n",
    "  '0_70',\n",
    "  '0_73',\n",
    "  '1_27',\n",
    "  '10_10',\n",
    "]\n",
    "\n",
    "zero_images = [\n",
    "  '0_118',\n",
    "  '0_120',\n",
    "  '0_24',\n",
    "  '0_100',\n",
    "  '1_4',\n",
    "  '10_24',\n",
    "  '10_33',\n",
    "]"
   ]
  },
  {
   "cell_type": "code",
   "execution_count": 7,
   "metadata": {},
   "outputs": [],
   "source": [
    "import shutil\n",
    "from PIL import Image\n",
    "import os\n",
    "\n",
    "def create_animated_gif(image_paths: list[str], output_path: str, duration: int=500):\n",
    "    # Load images from the file paths\n",
    "    images = [Image.open(path) for path in image_paths]\n",
    "\n",
    "    # Ensure all images are converted to a consistent format\n",
    "    converted_images = [image.convert('RGBA') for image in images]\n",
    "\n",
    "    # Save as an animated GIF\n",
    "    converted_images[0].save(output_path, save_all=True, append_images=converted_images[1:], duration=duration, loop=0, transparency=100)\n",
    "    print(f\"Animated GIF saved as {output_path}\")\n",
    "\n",
    "def find_file_with_extension(directory, name_start):\n",
    "    # List all files in the given directory\n",
    "    for file in os.listdir(directory):\n",
    "        # Check if the file name starts with the specified string\n",
    "        if file.startswith(name_start):\n",
    "            # Extract the extension of the file\n",
    "            _, file_extension = os.path.splitext(file)\n",
    "            return file_extension\n",
    "\n",
    "    return None\n",
    "\n",
    "def extract(pref: str, fps: list[str], dest_dir: str):\n",
    "  gif_paths = []\n",
    "  if not os.path.exists(dest_dir):\n",
    "    os.makedirs(dest_dir)\n",
    "\n",
    "  for file_prefix in fps:\n",
    "    dir_name = file_prefix.split('_')[0]\n",
    "    ds_path = os.path.join(base_path, dir_name)\n",
    "    \n",
    "    input_dir = os.path.join(ds_path, 'input')\n",
    "    input_extension = find_file_with_extension(input_dir, file_prefix)\n",
    "    if input_extension is not None:\n",
    "      input_path = os.path.join(input_dir, f'{file_prefix}{input_extension}')\n",
    "      added_path = os.path.join(ds_path, 'added_prediction', f'{file_prefix}{input_extension}')\n",
    "      pseudo_path = os.path.join(ds_path, 'pseudo_color_prediction', f'{file_prefix}.png')\n",
    "\n",
    "      shutil.copy(input_path, os.path.join(dest_dir, f'{pref}_{file_prefix}_input{input_extension}'))\n",
    "      shutil.copy(added_path, os.path.join(dest_dir, f'{pref}_{file_prefix}_added{input_extension}'))\n",
    "      shutil.copy(pseudo_path, os.path.join(dest_dir, f'{pref}_{file_prefix}_pseudo.png'))\n",
    "      gif_paths.append(input_path)\n",
    "      gif_paths.append(added_path)\n",
    "      gif_paths.append(pseudo_path)\n",
    "      create_animated_gif([input_path, added_path, pseudo_path], os.path.join(dest_dir, f'{pref}_{file_prefix}.gif'), 2000)\n",
    "    else:\n",
    "       print('not found', file_prefix)\n",
    "  \n",
    "  # create_animated_gif(gif_paths, os.path.join(dest_dir, f'{pref}.gif'), 2000)"
   ]
  },
  {
   "cell_type": "code",
   "execution_count": null,
   "metadata": {},
   "outputs": [],
   "source": [
    "dest_dir = os.path.join('Z:\\datasets\\cracks\\predict\\hrsegnetb48', 'extract')\n",
    "# extract('zero', zero_images, dest_dir)\n",
    "extract('zero', zero_images, dest_dir)"
   ]
  },
  {
   "cell_type": "code",
   "execution_count": 9,
   "metadata": {},
   "outputs": [
    {
     "data": {
      "text/plain": [
       "['CRACK500_20160222_114759_1281_1081',\n",
       " 'CRACK500_20160225_114503_1281_361',\n",
       " 'CRACK500_20160306_104527_641_361',\n",
       " 'CRACK500_20160328_152336_1921_361',\n",
       " 'GAPS384_train_0516_541_1',\n",
       " 'GAPS384_train_1242_541_641',\n",
       " 'GAPS384_train_1248_541_641',\n",
       " 'noncrack_noncrack_concrete_wall_22_2',\n",
       " 'noncrack_noncrack_concrete_wall_45_6',\n",
       " 'noncrack_noncrack_concrete_wall_79_5',\n",
       " 'noncrack_noncrack_concrete_wall_77_7',\n",
       " 'noncrack_noncrack_concrete_wall_85_7',\n",
       " 'Rissbilder_for_Florian_9S6A2785_594_1245_2779_3407',\n",
       " 'Rissbilder_for_Florian_9S6A2795_51_600_3536_4620',\n",
       " 'Rissbilder_for_Florian_9S6A2813_52_2306_3685_3445',\n",
       " 'Rissbilder_for_Florian_9S6A2826_23_1793_3811_3559',\n",
       " 'Rissbilder_for_Florian_9S6A2838_703_2061_2832_3103',\n",
       " 'Rissbilder_for_Florian_9S6A2833_496_755_2549_2249',\n",
       " 'Rissbilder_for_Florian_9S6A2869_517_377_3203_3018',\n",
       " 'Sylvie_Chambon_024',\n",
       " 'Volker_DSC01626_139_245_1678_2172',\n",
       " 'Volker_DSC01710_0_0_2736_1824']"
      ]
     },
     "execution_count": 9,
     "metadata": {},
     "output_type": "execute_result"
    }
   ],
   "source": [
    "concrete_images = [a.split('.')[0] for a in os.listdir(os.path.join(working_dir, 'input'))]\n",
    "concrete_images"
   ]
  },
  {
   "cell_type": "code",
   "execution_count": 8,
   "metadata": {},
   "outputs": [
    {
     "ename": "FileNotFoundError",
     "evalue": "[WinError 3] The system cannot find the path specified: 'Z:datasets\\\\cracks\\\\predict\\\\hrsegnetb48\\\\CRACK500\\\\input'",
     "output_type": "error",
     "traceback": [
      "\u001b[1;31m---------------------------------------------------------------------------\u001b[0m",
      "\u001b[1;31mFileNotFoundError\u001b[0m                         Traceback (most recent call last)",
      "\u001b[1;32mp:\\PaddleSeg\\run\\predict.ipynb Cell 10\u001b[0m line \u001b[0;36m3\n\u001b[0;32m      <a href='vscode-notebook-cell:/p%3A/PaddleSeg/run/predict.ipynb#X12sZmlsZQ%3D%3D?line=0'>1</a>\u001b[0m concrete_images \u001b[39m=\u001b[39m [a\u001b[39m.\u001b[39msplit(\u001b[39m'\u001b[39m\u001b[39m.\u001b[39m\u001b[39m'\u001b[39m)[\u001b[39m0\u001b[39m] \u001b[39mfor\u001b[39;00m a \u001b[39min\u001b[39;00m os\u001b[39m.\u001b[39mlistdir(os\u001b[39m.\u001b[39mpath\u001b[39m.\u001b[39mjoin(working_dir, \u001b[39m'\u001b[39m\u001b[39minput\u001b[39m\u001b[39m'\u001b[39m))]\n\u001b[0;32m      <a href='vscode-notebook-cell:/p%3A/PaddleSeg/run/predict.ipynb#X12sZmlsZQ%3D%3D?line=1'>2</a>\u001b[0m dest_dir \u001b[39m=\u001b[39m os\u001b[39m.\u001b[39mpath\u001b[39m.\u001b[39mjoin(\u001b[39m'\u001b[39m\u001b[39mZ:\u001b[39m\u001b[39m\\\u001b[39m\u001b[39mdatasets\u001b[39m\u001b[39m\\\u001b[39m\u001b[39mcracks\u001b[39m\u001b[39m\\\u001b[39m\u001b[39mpredict\u001b[39m\u001b[39m\\\u001b[39m\u001b[39mhrsegnetb48\u001b[39m\u001b[39m'\u001b[39m, \u001b[39m'\u001b[39m\u001b[39mextract\u001b[39m\u001b[39m'\u001b[39m)\n\u001b[1;32m----> <a href='vscode-notebook-cell:/p%3A/PaddleSeg/run/predict.ipynb#X12sZmlsZQ%3D%3D?line=2'>3</a>\u001b[0m extract(\u001b[39m'\u001b[39;49m\u001b[39mcrack\u001b[39;49m\u001b[39m'\u001b[39;49m, concrete_images, dest_dir)\n",
      "\u001b[1;32mp:\\PaddleSeg\\run\\predict.ipynb Cell 10\u001b[0m line \u001b[0;36m3\n\u001b[0;32m     <a href='vscode-notebook-cell:/p%3A/PaddleSeg/run/predict.ipynb#X12sZmlsZQ%3D%3D?line=33'>34</a>\u001b[0m ds_path \u001b[39m=\u001b[39m os\u001b[39m.\u001b[39mpath\u001b[39m.\u001b[39mjoin(base_path, dir_name)\n\u001b[0;32m     <a href='vscode-notebook-cell:/p%3A/PaddleSeg/run/predict.ipynb#X12sZmlsZQ%3D%3D?line=35'>36</a>\u001b[0m input_dir \u001b[39m=\u001b[39m os\u001b[39m.\u001b[39mpath\u001b[39m.\u001b[39mjoin(ds_path, \u001b[39m'\u001b[39m\u001b[39minput\u001b[39m\u001b[39m'\u001b[39m)\n\u001b[1;32m---> <a href='vscode-notebook-cell:/p%3A/PaddleSeg/run/predict.ipynb#X12sZmlsZQ%3D%3D?line=36'>37</a>\u001b[0m input_extension \u001b[39m=\u001b[39m find_file_with_extension(input_dir, file_prefix)\n\u001b[0;32m     <a href='vscode-notebook-cell:/p%3A/PaddleSeg/run/predict.ipynb#X12sZmlsZQ%3D%3D?line=37'>38</a>\u001b[0m \u001b[39mif\u001b[39;00m input_extension \u001b[39mis\u001b[39;00m \u001b[39mnot\u001b[39;00m \u001b[39mNone\u001b[39;00m:\n\u001b[0;32m     <a href='vscode-notebook-cell:/p%3A/PaddleSeg/run/predict.ipynb#X12sZmlsZQ%3D%3D?line=38'>39</a>\u001b[0m   input_path \u001b[39m=\u001b[39m os\u001b[39m.\u001b[39mpath\u001b[39m.\u001b[39mjoin(input_dir, \u001b[39mf\u001b[39m\u001b[39m'\u001b[39m\u001b[39m{\u001b[39;00mfile_prefix\u001b[39m}\u001b[39;00m\u001b[39m{\u001b[39;00minput_extension\u001b[39m}\u001b[39;00m\u001b[39m'\u001b[39m)\n",
      "\u001b[1;32mp:\\PaddleSeg\\run\\predict.ipynb Cell 10\u001b[0m line \u001b[0;36m1\n\u001b[0;32m     <a href='vscode-notebook-cell:/p%3A/PaddleSeg/run/predict.ipynb#X12sZmlsZQ%3D%3D?line=15'>16</a>\u001b[0m \u001b[39mdef\u001b[39;00m \u001b[39mfind_file_with_extension\u001b[39m(directory, name_start):\n\u001b[0;32m     <a href='vscode-notebook-cell:/p%3A/PaddleSeg/run/predict.ipynb#X12sZmlsZQ%3D%3D?line=16'>17</a>\u001b[0m     \u001b[39m# List all files in the given directory\u001b[39;00m\n\u001b[1;32m---> <a href='vscode-notebook-cell:/p%3A/PaddleSeg/run/predict.ipynb#X12sZmlsZQ%3D%3D?line=17'>18</a>\u001b[0m     \u001b[39mfor\u001b[39;00m file \u001b[39min\u001b[39;00m os\u001b[39m.\u001b[39;49mlistdir(directory):\n\u001b[0;32m     <a href='vscode-notebook-cell:/p%3A/PaddleSeg/run/predict.ipynb#X12sZmlsZQ%3D%3D?line=18'>19</a>\u001b[0m         \u001b[39m# Check if the file name starts with the specified string\u001b[39;00m\n\u001b[0;32m     <a href='vscode-notebook-cell:/p%3A/PaddleSeg/run/predict.ipynb#X12sZmlsZQ%3D%3D?line=19'>20</a>\u001b[0m         \u001b[39mif\u001b[39;00m file\u001b[39m.\u001b[39mstartswith(name_start):\n\u001b[0;32m     <a href='vscode-notebook-cell:/p%3A/PaddleSeg/run/predict.ipynb#X12sZmlsZQ%3D%3D?line=20'>21</a>\u001b[0m             \u001b[39m# Extract the extension of the file\u001b[39;00m\n\u001b[0;32m     <a href='vscode-notebook-cell:/p%3A/PaddleSeg/run/predict.ipynb#X12sZmlsZQ%3D%3D?line=21'>22</a>\u001b[0m             _, file_extension \u001b[39m=\u001b[39m os\u001b[39m.\u001b[39mpath\u001b[39m.\u001b[39msplitext(file)\n",
      "\u001b[1;31mFileNotFoundError\u001b[0m: [WinError 3] The system cannot find the path specified: 'Z:datasets\\\\cracks\\\\predict\\\\hrsegnetb48\\\\CRACK500\\\\input'"
     ]
    }
   ],
   "source": [
    "dest_dir = os.path.join('Z:\\datasets\\cracks\\predict\\hrsegnetb48', 'extract')\n",
    "extract('crack', concrete_images, dest_dir)"
   ]
  }
 ],
 "metadata": {
  "kernelspec": {
   "display_name": "env",
   "language": "python",
   "name": "python3"
  },
  "language_info": {
   "codemirror_mode": {
    "name": "ipython",
    "version": 3
   },
   "file_extension": ".py",
   "mimetype": "text/x-python",
   "name": "python",
   "nbconvert_exporter": "python",
   "pygments_lexer": "ipython3",
   "version": "3.10.11"
  }
 },
 "nbformat": 4,
 "nbformat_minor": 2
}
