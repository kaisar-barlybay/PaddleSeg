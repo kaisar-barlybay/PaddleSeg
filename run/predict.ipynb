{
 "cells": [
  {
   "cell_type": "code",
   "execution_count": 1,
   "metadata": {},
   "outputs": [],
   "source": [
    "%load_ext autoreload\n",
    "%autoreload 2\n",
    "import os\n",
    "project_name = \"PaddleSeg\"\n",
    "os.chdir(os.path.join(os.getcwd().split(project_name, 1)[0], project_name))"
   ]
  },
  {
   "cell_type": "code",
   "execution_count": 3,
   "metadata": {},
   "outputs": [],
   "source": [
    "from utilities.dataset_manager import DatasetManager\n",
    "from utilities.runner import Runner\n",
    "root_directory = 'Z:\\datasets\\cracks\\КЦТ_Фото_Шахты'\n",
    "dm = DatasetManager()\n",
    "runner = Runner()"
   ]
  },
  {
   "cell_type": "code",
   "execution_count": 5,
   "metadata": {},
   "outputs": [],
   "source": [
    "extracted_subpaths = dm.copy_relevant_datasets(root_directory)"
   ]
  },
  {
   "cell_type": "code",
   "execution_count": null,
   "metadata": {},
   "outputs": [],
   "source": [
    "for i, (path, subpath) in enumerate(extracted_subpaths):\n",
    "  image_path = os.path.join('Z:\\datasets\\cracks\\\\tests', f'{i}')\n",
    "  dpath = os.path.join('P:\\PaddleSeg\\outputs\\hrsegnetb48\\\\result', f'{i}')\n",
    "  runner.run_model(image_path, dpath)"
   ]
  },
  {
   "cell_type": "code",
   "execution_count": 6,
   "metadata": {},
   "outputs": [
    {
     "name": "stdout",
     "output_type": "stream",
     "text": [
      "2023-12-01 12:09:37 [WARNING]\tAdd the `num_classes` in train_dataset and val_dataset config to model config. We suggest you manually set `num_classes` in model config.\n",
      "2023-12-01 12:09:37 [INFO]\t\n",
      "------------Environment Information-------------\n",
      "platform: Windows-10-10.0.22621-SP0\n",
      "Python: 3.10.11 (tags/v3.10.11:7d4cc5a, Apr  5 2023, 00:38:17) [MSC v.1929 64 bit (AMD64)]\n",
      "Paddle compiled with cuda: True\n",
      "NVCC: Build cuda_12.0.r12.0/compiler.31968024_0\n",
      "cudnn: 8.9\n",
      "GPUs used: 1\n",
      "CUDA_VISIBLE_DEVICES: None\n",
      "GPU: ['GPU 0: NVIDIA GeForce']\n",
      "PaddleSeg: 0.0.0.dev0\n",
      "PaddlePaddle: 2.5.2\n",
      "OpenCV: 4.5.5\n",
      "------------------------------------------------\n",
      "2023-12-01 12:09:37 [INFO]\t\n",
      "---------------Config Information---------------\n",
      "batch_size: 32\n",
      "iters: 100000\n",
      "train_dataset:\n",
      "  dataset_root: data/crackseg9k\n",
      "  mode: train\n",
      "  num_classes: 2\n",
      "  train_path: data/crackseg9k/train.txt\n",
      "  transforms:\n",
      "  - max_scale_factor: 2.0\n",
      "    min_scale_factor: 0.5\n",
      "    scale_step_size: 0.25\n",
      "    type: ResizeStepScaling\n",
      "  - crop_size:\n",
      "    - 400\n",
      "    - 400\n",
      "    type: RandomPaddingCrop\n",
      "  - type: RandomHorizontalFlip\n",
      "  - brightness_range: 0.5\n",
      "    contrast_range: 0.5\n",
      "    saturation_range: 0.5\n",
      "    type: RandomDistort\n",
      "  - type: Normalize\n",
      "  type: Dataset\n",
      "val_dataset:\n",
      "  dataset_root: data/crackseg9k\n",
      "  mode: val\n",
      "  num_classes: 2\n",
      "  transforms:\n",
      "  - type: Normalize\n",
      "  type: Dataset\n",
      "  val_path: data/crackseg9k/val.txt\n",
      "optimizer:\n",
      "  momentum: 0.9\n",
      "  type: SGD\n",
      "  weight_decay: 0.0005\n",
      "lr_scheduler:\n",
      "  end_lr: 0.0\n",
      "  learning_rate: 0.01\n",
      "  power: 0.9\n",
      "  type: PolynomialDecay\n",
      "  warmup_iters: 2000\n",
      "  warmup_start_lr: 1.0e-05\n",
      "loss:\n",
      "  coef:\n",
      "  - 1\n",
      "  - 0.5\n",
      "  - 0.5\n",
      "  types:\n",
      "  - type: OhemCrossEntropyLoss\n",
      "  - type: OhemCrossEntropyLoss\n",
      "  - type: OhemCrossEntropyLoss\n",
      "model:\n",
      "  num_classes: 2\n",
      "  type: HrSegNetB48\n",
      "------------------------------------------------\n",
      "\n",
      "2023-12-01 12:09:37 [INFO]\tSet device: gpu:0\n",
      "2023-12-01 12:09:37 [INFO]\tUse the following config to build model\n",
      "model:\n",
      "  num_classes: 2\n",
      "  type: HrSegNetB48\n",
      "2023-12-01 12:09:39 [INFO]\tThe number of images: 11\n",
      "2023-12-01 12:09:39 [INFO]\tLoading pretrained model from p:\\PaddleSeg\\outputs\\hrsegnetb48\\best_model\\model.pdparams\n",
      "2023-12-01 12:09:39 [INFO]\tThere are 180/180 variables loaded into HrSegNetB48.\n",
      "2023-12-01 12:09:39 [INFO]\tStart to predict...\n"
     ]
    },
    {
     "name": "stderr",
     "output_type": "stream",
     "text": [
      "11/11 [==============================] - 4s 365ms/step\n"
     ]
    },
    {
     "name": "stdout",
     "output_type": "stream",
     "text": [
      "2023-12-01 12:09:43 [INFO]\tPredicted images are saved in P:\\PaddleSeg\\outputs\\hrsegnetb48\\result\\selected\\added_prediction and P:\\PaddleSeg\\outputs\\hrsegnetb48\\result\\selected\\pseudo_color_prediction .\n"
     ]
    }
   ],
   "source": [
    "image_path = os.path.join('Z:\\datasets\\cracks\\\\tests', f'selected')\n",
    "dpath = os.path.join('P:\\PaddleSeg\\outputs\\hrsegnetb48\\\\result', f'selected')\n",
    "runner.run_model(image_path, dpath)"
   ]
  }
 ],
 "metadata": {
  "kernelspec": {
   "display_name": "env",
   "language": "python",
   "name": "python3"
  },
  "language_info": {
   "codemirror_mode": {
    "name": "ipython",
    "version": 3
   },
   "file_extension": ".py",
   "mimetype": "text/x-python",
   "name": "python",
   "nbconvert_exporter": "python",
   "pygments_lexer": "ipython3",
   "version": "3.10.11"
  }
 },
 "nbformat": 4,
 "nbformat_minor": 2
}
