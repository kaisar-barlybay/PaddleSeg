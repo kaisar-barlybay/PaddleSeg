{
 "cells": [
  {
   "cell_type": "code",
   "execution_count": null,
   "metadata": {},
   "outputs": [],
   "source": [
    "%load_ext autoreload\n",
    "%autoreload 2\n",
    "import os\n",
    "project_name = \"PaddleSeg\"\n",
    "os.chdir(os.path.join(os.getcwd().split(project_name, 1)[0], project_name))"
   ]
  },
  {
   "cell_type": "code",
   "execution_count": null,
   "metadata": {},
   "outputs": [],
   "source": [
    "from utilities.dataset_manager import DatasetManager\n",
    "from utilities.runner import Runner\n",
    "root_directory = 'Z:\\datasets\\cracks\\КЦТ_Фото_Шахты'\n",
    "base_path = os.path.join('Z:', 'datasets', 'cracks', 'predict', 'hrsegnetb48')\n",
    "dm = DatasetManager()\n",
    "runner = Runner()"
   ]
  },
  {
   "cell_type": "code",
   "execution_count": null,
   "metadata": {},
   "outputs": [],
   "source": [
    "extracted_subpaths = dm.copy_relevant_datasets(root_directory, base_path)"
   ]
  },
  {
   "cell_type": "code",
   "execution_count": null,
   "metadata": {},
   "outputs": [],
   "source": [
    "for i, (path, working_dir, image_path) in enumerate(extracted_subpaths):\n",
    "  runner.run_model(image_path, working_dir)"
   ]
  },
  {
   "cell_type": "code",
   "execution_count": null,
   "metadata": {},
   "outputs": [],
   "source": [
    "working_dir = os.path.join(base_path,'selected', )\n",
    "runner.run_model(os.path.join(working_dir, 'input'), working_dir)"
   ]
  },
  {
   "cell_type": "code",
   "execution_count": null,
   "metadata": {},
   "outputs": [],
   "source": []
  },
  {
   "cell_type": "code",
   "execution_count": null,
   "metadata": {},
   "outputs": [],
   "source": [
    "lucky_images = [\n",
    "  '0_1',\n",
    "  '0_125',\n",
    "  '0_9',\n",
    "  '0_32',\n",
    "  '6_73',\n",
    "  '7_1',\n",
    "  '8_7',\n",
    "  '8_12',\n",
    "  '8_13',\n",
    "  '8_21',\n",
    "  '8_29',\n",
    "  '8_12',\n",
    "]\n",
    "\n",
    "\n",
    "wrong_images = [\n",
    "  '0_112',\n",
    "  '0_119',\n",
    "  '0_6',\n",
    "  '0_11',\n",
    "  '0_26',\n",
    "  '0_67',\n",
    "  '0_70',\n",
    "  '0_73',\n",
    "  '1_27',\n",
    "  '10_10',\n",
    "]\n",
    "\n",
    "zero_images = [\n",
    "  '0_118',\n",
    "  '0_120',\n",
    "  '0_24',\n",
    "  '0_100',\n",
    "  '1_4',\n",
    "  '10_24',\n",
    "  '10_33',\n",
    "]"
   ]
  },
  {
   "cell_type": "code",
   "execution_count": null,
   "metadata": {},
   "outputs": [],
   "source": [
    "dest_dir = os.path.join('Z:\\datasets\\cracks\\predict\\hrsegnetb48', 'selected', 'input')\n",
    "selected_images = [fname.split('.')[0] for fname in os.listdir(dest_dir)]\n",
    "selected_images"
   ]
  },
  {
   "cell_type": "code",
   "execution_count": null,
   "metadata": {},
   "outputs": [],
   "source": [
    "import shutil\n",
    "from PIL import Image\n",
    "import os\n",
    "\n",
    "def create_animated_gif(image_paths: list[str], output_path: str, duration: int=500):\n",
    "    # Load images from the file paths\n",
    "    images = [Image.open(path) for path in image_paths]\n",
    "\n",
    "    # Ensure all images are converted to a consistent format\n",
    "    converted_images = [image.convert('RGBA') for image in images]\n",
    "\n",
    "    # Save as an animated GIF\n",
    "    converted_images[0].save(output_path, save_all=True, append_images=converted_images[1:], duration=duration, loop=0, transparency=100)\n",
    "    print(f\"Animated GIF saved as {output_path}\")\n",
    "\n",
    "def find_file_with_extension(directory, name_start):\n",
    "    # List all files in the given directory\n",
    "    for file in os.listdir(directory):\n",
    "        # Check if the file name starts with the specified string\n",
    "        if file.startswith(name_start):\n",
    "            # Extract the extension of the file\n",
    "            _, file_extension = os.path.splitext(file)\n",
    "            return file_extension\n",
    "\n",
    "    return None\n",
    "\n",
    "def extract(pref: str, fps: list[str], dest_dir: str, dir_name: str | None = None):\n",
    "  gif_paths = []\n",
    "  if not os.path.exists(dest_dir):\n",
    "    os.makedirs(dest_dir)\n",
    "\n",
    "  for file_prefix in fps:\n",
    "    dir_name = dir_name or file_prefix.split('_')[0]\n",
    "    ds_path = os.path.join(base_path, dir_name)\n",
    "    \n",
    "    input_dir = os.path.join(ds_path, 'input')\n",
    "    print(ds_path, input_dir)\n",
    "    input_extension = find_file_with_extension(input_dir, file_prefix)\n",
    "    if input_extension is not None:\n",
    "      input_path = os.path.join(input_dir, f'{file_prefix}{input_extension}')\n",
    "      added_path = os.path.join(ds_path, 'added_prediction', f'{file_prefix}{input_extension}')\n",
    "      pseudo_path = os.path.join(ds_path, 'pseudo_color_prediction', f'{file_prefix}.png')\n",
    "\n",
    "      shutil.copy(input_path, os.path.join(dest_dir, f'{pref}_{file_prefix}_input{input_extension}'))\n",
    "      shutil.copy(added_path, os.path.join(dest_dir, f'{pref}_{file_prefix}_added{input_extension}'))\n",
    "      shutil.copy(pseudo_path, os.path.join(dest_dir, f'{pref}_{file_prefix}_pseudo.png'))\n",
    "      gif_paths.append(input_path)\n",
    "      gif_paths.append(added_path)\n",
    "      gif_paths.append(pseudo_path)\n",
    "      create_animated_gif([input_path, added_path, pseudo_path], os.path.join(dest_dir, f'{pref}_{file_prefix}.gif'), 2000)\n",
    "    else:\n",
    "       print('not found', file_prefix)\n",
    "  \n",
    "  # create_animated_gif(gif_paths, os.path.join(dest_dir, f'{pref}.gif'), 2000)"
   ]
  },
  {
   "cell_type": "code",
   "execution_count": null,
   "metadata": {},
   "outputs": [],
   "source": [
    "dest_dir = os.path.join('Z:\\datasets\\cracks\\predict\\hrsegnetb48', 'extract')\n",
    "# extract('zero', zero_images, dest_dir)\n",
    "extract('selected', selected_images, dest_dir, dir_name='selected')"
   ]
  },
  {
   "cell_type": "code",
   "execution_count": null,
   "metadata": {},
   "outputs": [],
   "source": [
    "concrete_images = [a.split('.')[0] for a in os.listdir(os.path.join(working_dir, 'input'))]\n",
    "concrete_images"
   ]
  },
  {
   "cell_type": "code",
   "execution_count": null,
   "metadata": {},
   "outputs": [],
   "source": [
    "dest_dir = os.path.join('Z:\\datasets\\cracks\\predict\\hrsegnetb48', 'extract')\n",
    "extract('crack', concrete_images, dest_dir)"
   ]
  },
  {
   "cell_type": "code",
   "execution_count": null,
   "metadata": {},
   "outputs": [],
   "source": []
  },
  {
   "cell_type": "code",
   "execution_count": null,
   "metadata": {},
   "outputs": [],
   "source": [
    "import shutil\n",
    "\n",
    "for fname in os.listdir(dest_dir):\n",
    "  splat = fname.split('.')\n",
    "  if len(splat) == 3:\n",
    "    print(fname)\n",
    "\n",
    "    shutil.move(os.path.join(dest_dir, fname), os.path.join(dest_dir, f'{splat[0]}.{splat[2]}'))\n"
   ]
  }
 ],
 "metadata": {
  "kernelspec": {
   "display_name": "env",
   "language": "python",
   "name": "python3"
  },
  "language_info": {
   "codemirror_mode": {
    "name": "ipython",
    "version": 3
   },
   "file_extension": ".py",
   "mimetype": "text/x-python",
   "name": "python",
   "nbconvert_exporter": "python",
   "pygments_lexer": "ipython3",
   "version": "3.10.11"
  }
 },
 "nbformat": 4,
 "nbformat_minor": 2
}
