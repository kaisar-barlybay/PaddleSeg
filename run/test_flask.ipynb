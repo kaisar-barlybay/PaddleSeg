{
 "cells": [
  {
   "cell_type": "code",
   "execution_count": 6,
   "metadata": {},
   "outputs": [
    {
     "name": "stdout",
     "output_type": "stream",
     "text": [
      "The autoreload extension is already loaded. To reload it, use:\n",
      "  %reload_ext autoreload\n"
     ]
    }
   ],
   "source": [
    "%load_ext autoreload\n",
    "%autoreload 2\n",
    "import os\n",
    "project_name = \"PaddleSeg\"\n",
    "os.chdir(os.path.join(os.getcwd().split(project_name, 1)[0], project_name))"
   ]
  },
  {
   "cell_type": "code",
   "execution_count": 7,
   "metadata": {},
   "outputs": [],
   "source": [
    "import requests\n",
    "\n",
    "url = \"http://127.0.0.1:8080/predict\"\n",
    "path = r'Z:\\datasets\\cracks\\zakoly\\photos\\04.10.2023\\converted'\n",
    "payload = {}\n",
    "headers = {}\n",
    "files = []\n",
    "for fname in os.listdir(os.path.join(path)):\n",
    "  f_path = os.path.join(path, fname)\n",
    "  files.append(('files[]',(fname,open(f_path,'rb'),'image/jpeg')))\n",
    "\n",
    "response = requests.request(\"POST\", url, headers=headers, data=payload, files=files)"
   ]
  },
  {
   "cell_type": "code",
   "execution_count": 3,
   "metadata": {},
   "outputs": [],
   "source": [
    "from PIL import Image\n",
    "import io\n",
    "from base64 import decodebytes\n",
    "\n",
    "def convert_and_show(encoded_img_str):\n",
    "    # Decode the base64 string back to bytes\n",
    "    img_bytes = decodebytes(encoded_img_str.encode('ascii'))\n",
    "    \n",
    "    # Open the image from the byte array\n",
    "    img = Image.open(io.BytesIO(img_bytes))\n",
    "    \n",
    "    # Display the image in the Jupyter cell\n",
    "    return img"
   ]
  },
  {
   "cell_type": "code",
   "execution_count": 4,
   "metadata": {},
   "outputs": [],
   "source": [
    "for bts in response.json()['result']:\n",
    "  convert_and_show(bts).show()"
   ]
  },
  {
   "cell_type": "code",
   "execution_count": null,
   "metadata": {},
   "outputs": [],
   "source": []
  }
 ],
 "metadata": {
  "kernelspec": {
   "display_name": "env",
   "language": "python",
   "name": "python3"
  },
  "language_info": {
   "codemirror_mode": {
    "name": "ipython",
    "version": 3
   },
   "file_extension": ".py",
   "mimetype": "text/x-python",
   "name": "python",
   "nbconvert_exporter": "python",
   "pygments_lexer": "ipython3",
   "version": "3.10.11"
  }
 },
 "nbformat": 4,
 "nbformat_minor": 2
}
